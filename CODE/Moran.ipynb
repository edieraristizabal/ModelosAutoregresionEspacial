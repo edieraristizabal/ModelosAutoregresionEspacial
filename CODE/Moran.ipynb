{
 "cells": [
  {
   "cell_type": "code",
   "execution_count": 10,
   "id": "8c71db0c-d791-41c3-a68f-9c7c87f1b74c",
   "metadata": {},
   "outputs": [
    {
     "name": "stderr",
     "output_type": "stream",
     "text": [
      "C:\\Users\\edier\\miniconda3\\Lib\\site-packages\\scipy\\sparse\\_data.py:119: RuntimeWarning: divide by zero encountered in reciprocal\n",
      "  return self._with_data(data ** n)\n",
      "C:\\Users\\edier\\miniconda3\\Lib\\site-packages\\libpysal\\weights\\weights.py:224: UserWarning: The weights matrix is not fully connected: \n",
      " There are 2 disconnected components.\n",
      "  warnings.warn(message)\n"
     ]
    }
   ],
   "source": [
    "import geopandas as gpd\n",
    "import matplotlib.pyplot as plt\n",
    "from matplotlib.colors import ListedColormap\n",
    "from libpysal.weights import DistanceBand\n",
    "import esda\n",
    "from splot.esda import moran_scatterplot\n",
    "from matplotlib_scalebar.scalebar import ScaleBar\n",
    "\n",
    "# Load the GeoDataFrame\n",
    "cat = gpd.read_file(\"G:/My Drive/INVESTIGACION/PAPERS/ELABORACION/Modelo_SAR/DATA/df_catchments_kmeans.gpkg\")\n",
    "\n",
    "# Create a DistanceBand weights matrix\n",
    "w_dist20km = DistanceBand.from_dataframe(cat, 20000, binary=False)\n",
    "\n",
    "# List of variables and their respective x-axis labels\n",
    "variables = [\n",
    "    ('area', 'Área normalizada'),\n",
    "    ('hypso_inte', 'Hipso normalizada'),\n",
    "    ('slope_mean', 'Pendiente normalizada'),\n",
    "    ('rainfallAnnual_mean', 'Lluvia normalizada')\n",
    "]\n",
    "\n",
    "# Loop over each variable, calculate the Moran's I and plot\n",
    "for variable, xlabel in variables:\n",
    "    # Calculate local Moran's I\n",
    "    lisa = esda.Moran_Local(cat[variable], w_dist20km)\n",
    "\n",
    "    # Create subplots with consistent sizes\n",
    "    f, ax = plt.subplots(nrows=1, ncols=2, figsize=(14, 7))  # Adjusted figsize for better uniformity\n",
    "    axs = ax.flatten()\n",
    "\n",
    "    # Local Moran's I spatial plot\n",
    "    q_labels = ['Q1', 'Q2', 'Q3', 'Q4']\n",
    "    labels1 = [q_labels[i - 1] for i in lisa.q]\n",
    "    hmap = ListedColormap(['red', 'lightblue', 'blue', '#FAD7A0'])\n",
    "    cat.assign(cl=labels1).plot(column='cl', categorical=True, k=2, cmap=hmap, linewidth=0.1, ax=ax[0], edgecolor='white', legend=True)\n",
    "\n",
    "    # Significance plot overlay\n",
    "    sig = 1 * (lisa.p_sim < 0.05)\n",
    "    hmap = ListedColormap(['grey', 'black'])\n",
    "    labels2 = ['non-sig.', 'significant']\n",
    "    labels2 = [labels2[i] for i in sig]\n",
    "    cat.assign(cl=labels2).plot(column='cl', categorical=True, k=2, cmap=hmap, linewidth=0.1, ax=ax[0], edgecolor='white', alpha=0.20)\n",
    "    ax[0].set_aspect('equal')\n",
    "    ax[0].set_axis_off()\n",
    "\n",
    "    # Moran scatterplot\n",
    "    moran_scatterplot(lisa, p=0.05, ax=ax[1])\n",
    "    # Calculate the global Moran's I if you want to display it\n",
    "    mi = esda.Moran(cat[variable], w_dist20km)  # Calculate the global Moran's I\n",
    "    ax[1].text(-2, 1.5, f'MI={round(mi.I, 2)}', fontsize=15)  # Increased font size by 50%\n",
    "    ax[1].set_xlabel(xlabel, fontsize=15)  # Increased font size by 50%\n",
    "    ax[1].set_ylabel(\"Autoregresión espacial\", fontsize=15)  # Increased font size by 50%\n",
    "    ax[1].set_title('')\n",
    "\n",
    "    # Adjust the aspect ratio and limits of ax[1] to maintain consistent size\n",
    "    ax[1].set_aspect('auto')  # You can set this to 'equal' or 'auto' based on your preference\n",
    "    ax[1].set_xlim([-2.5, 2.5])  # Set consistent limits (adjust as needed)\n",
    "    ax[1].set_ylim([-2.5, 2.5])  # Adjust as needed for consistent sizing\n",
    "\n",
    "    # Add a north arrow (assuming the function is defined elsewhere)\n",
    "    add_north_arrow(ax[0], scale=.75, xlim_pos=.2, ylim_pos=.965, color='#000', text_scaler=4, text_yT=-1.25)\n",
    "\n",
    "    # Add a scale bar\n",
    "    scalebar = ScaleBar(1, \"m\", location=\"lower right\", scale_loc=\"top\", length_fraction=0.25)\n",
    "    ax[0].add_artist(scalebar)\n",
    "\n",
    "    # Save the figure\n",
    "    output_path = f\"G:/My Drive/INVESTIGACION/PAPERS/ELABORACION/Modelo_SAR/FIGURAS/{variable}_moran.png\"\n",
    "    plt.savefig(output_path, dpi=500)\n",
    "    plt.close()  # Close the plot to avoid overlap in the next iteration\n",
    "\n"
   ]
  },
  {
   "cell_type": "code",
   "execution_count": null,
   "id": "86de3a84-a14b-4914-b5d2-6d49852b96f3",
   "metadata": {},
   "outputs": [],
   "source": []
  }
 ],
 "metadata": {
  "kernelspec": {
   "display_name": "carto",
   "language": "python",
   "name": "carto"
  },
  "language_info": {
   "codemirror_mode": {
    "name": "ipython",
    "version": 3
   },
   "file_extension": ".py",
   "mimetype": "text/x-python",
   "name": "python",
   "nbconvert_exporter": "python",
   "pygments_lexer": "ipython3",
   "version": "3.11.4"
  }
 },
 "nbformat": 4,
 "nbformat_minor": 5
}
