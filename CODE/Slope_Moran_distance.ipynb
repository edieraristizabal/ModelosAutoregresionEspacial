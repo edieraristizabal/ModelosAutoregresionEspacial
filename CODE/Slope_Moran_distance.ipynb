{
 "cells": [
  {
   "cell_type": "code",
   "execution_count": 7,
   "id": "12beee9e-340f-4202-9113-4e488ce96fa2",
   "metadata": {
    "collapsed": true,
    "jupyter": {
     "outputs_hidden": true
    }
   },
   "outputs": [
    {
     "name": "stderr",
     "output_type": "stream",
     "text": [
      "C:\\Users\\edier\\miniconda3\\Lib\\site-packages\\scipy\\sparse\\_data.py:119: RuntimeWarning: divide by zero encountered in reciprocal\n",
      "  return self._with_data(data ** n)\n",
      "C:\\Users\\edier\\miniconda3\\Lib\\site-packages\\libpysal\\weights\\weights.py:224: UserWarning: The weights matrix is not fully connected: \n",
      " There are 430 disconnected components.\n",
      " There are 360 islands with ids: 3, 4, 5, 7, 8, 9, 10, 14, 16, 17, 18, 19, 21, 25, 26, 27, 28, 29, 30, 31, 32, 41, 48, 49, 50, 51, 53, 54, 55, 56, 60, 62, 63, 64, 65, 66, 68, 69, 73, 74, 76, 77, 78, 80, 82, 83, 84, 87, 88, 89, 92, 93, 94, 98, 99, 102, 104, 105, 106, 107, 108, 109, 110, 113, 114, 115, 116, 118, 121, 122, 124, 126, 127, 130, 134, 136, 137, 138, 142, 143, 144, 145, 148, 149, 152, 153, 154, 158, 160, 161, 163, 164, 165, 166, 167, 169, 170, 172, 177, 178, 183, 187, 188, 189, 192, 197, 198, 199, 200, 201, 202, 203, 204, 206, 207, 208, 209, 211, 212, 213, 214, 215, 216, 217, 218, 220, 221, 224, 225, 226, 227, 230, 233, 235, 236, 237, 238, 239, 240, 241, 242, 243, 244, 245, 246, 247, 248, 252, 253, 255, 256, 257, 258, 259, 260, 261, 266, 267, 268, 269, 272, 273, 274, 275, 276, 277, 278, 279, 280, 281, 282, 283, 284, 285, 286, 287, 288, 289, 290, 291, 292, 293, 294, 295, 297, 298, 299, 300, 301, 302, 303, 305, 306, 307, 308, 309, 310, 311, 312, 313, 314, 319, 320, 321, 322, 324, 326, 327, 328, 329, 330, 331, 334, 335, 340, 341, 342, 343, 346, 349, 354, 355, 358, 359, 360, 361, 362, 363, 364, 365, 366, 367, 368, 369, 370, 371, 372, 373, 374, 375, 378, 379, 382, 383, 384, 385, 386, 387, 388, 389, 390, 391, 396, 397, 400, 401, 402, 403, 404, 405, 406, 407, 408, 409, 410, 411, 413, 415, 416, 417, 419, 420, 421, 422, 423, 424, 425, 426, 427, 429, 430, 431, 432, 433, 434, 436, 438, 439, 440, 441, 442, 443, 444, 445, 446, 447, 448, 449, 451, 452, 459, 460, 461, 462, 463, 464, 465, 466, 467, 468, 469, 471, 472, 473, 474, 476, 477, 478, 479, 480, 481, 482, 483, 484, 485, 486, 487, 488, 489, 490, 491, 492, 493, 494, 495, 496, 498, 499, 500, 501, 505, 506, 507, 508, 509, 510, 511, 512, 513, 514, 515, 516, 517, 518, 519, 520, 521, 523, 524, 525.\n",
      "  warnings.warn(message)\n",
      "C:\\Users\\edier\\miniconda3\\Lib\\site-packages\\scipy\\sparse\\_data.py:119: RuntimeWarning: divide by zero encountered in reciprocal\n",
      "  return self._with_data(data ** n)\n",
      "C:\\Users\\edier\\miniconda3\\Lib\\site-packages\\libpysal\\weights\\weights.py:224: UserWarning: The weights matrix is not fully connected: \n",
      " There are 70 disconnected components.\n",
      "  warnings.warn(message)\n",
      "C:\\Users\\edier\\miniconda3\\Lib\\site-packages\\scipy\\sparse\\_data.py:119: RuntimeWarning: divide by zero encountered in reciprocal\n",
      "  return self._with_data(data ** n)\n",
      "C:\\Users\\edier\\miniconda3\\Lib\\site-packages\\libpysal\\weights\\weights.py:224: UserWarning: The weights matrix is not fully connected: \n",
      " There are 97 disconnected components.\n",
      " There are 41 islands with ids: 49, 130, 165, 177, 239, 267, 275, 279, 286, 292, 299, 331, 342, 343, 346, 369, 383, 390, 391, 402, 410, 413, 422, 423, 424, 426, 432, 433, 434, 436, 439, 443, 444, 460, 463, 472, 480, 484, 488, 515, 516.\n",
      "  warnings.warn(message)\n",
      "C:\\Users\\edier\\miniconda3\\Lib\\site-packages\\scipy\\sparse\\_data.py:119: RuntimeWarning: divide by zero encountered in reciprocal\n",
      "  return self._with_data(data ** n)\n",
      "C:\\Users\\edier\\miniconda3\\Lib\\site-packages\\libpysal\\weights\\weights.py:224: UserWarning: The weights matrix is not fully connected: \n",
      " There are 56 disconnected components.\n",
      "  warnings.warn(message)\n",
      "C:\\Users\\edier\\miniconda3\\Lib\\site-packages\\scipy\\sparse\\_data.py:119: RuntimeWarning: divide by zero encountered in reciprocal\n",
      "  return self._with_data(data ** n)\n",
      "C:\\Users\\edier\\miniconda3\\Lib\\site-packages\\libpysal\\weights\\weights.py:224: UserWarning: The weights matrix is not fully connected: \n",
      " There are 2 disconnected components.\n",
      "  warnings.warn(message)\n",
      "C:\\Users\\edier\\miniconda3\\Lib\\site-packages\\scipy\\sparse\\_data.py:119: RuntimeWarning: divide by zero encountered in reciprocal\n",
      "  return self._with_data(data ** n)\n",
      "C:\\Users\\edier\\miniconda3\\Lib\\site-packages\\libpysal\\weights\\weights.py:224: UserWarning: The weights matrix is not fully connected: \n",
      " There are 2 disconnected components.\n",
      "  warnings.warn(message)\n",
      "C:\\Users\\edier\\miniconda3\\Lib\\site-packages\\scipy\\sparse\\_data.py:119: RuntimeWarning: divide by zero encountered in reciprocal\n",
      "  return self._with_data(data ** n)\n",
      "C:\\Users\\edier\\miniconda3\\Lib\\site-packages\\scipy\\sparse\\_data.py:119: RuntimeWarning: divide by zero encountered in reciprocal\n",
      "  return self._with_data(data ** n)\n",
      "C:\\Users\\edier\\miniconda3\\Lib\\site-packages\\scipy\\sparse\\_data.py:119: RuntimeWarning: divide by zero encountered in reciprocal\n",
      "  return self._with_data(data ** n)\n",
      "C:\\Users\\edier\\miniconda3\\Lib\\site-packages\\scipy\\sparse\\_data.py:119: RuntimeWarning: divide by zero encountered in reciprocal\n",
      "  return self._with_data(data ** n)\n"
     ]
    }
   ],
   "source": [
    "import geopandas as gpd\n",
    "import matplotlib.pyplot as plt\n",
    "from libpysal.weights import DistanceBand\n",
    "import esda\n",
    "from splot.esda import moran_scatterplot\n",
    "\n",
    "# Load the GeoDataFrame\n",
    "cat = gpd.read_file(\"G:/My Drive/INVESTIGACION/PAPERS/ELABORACION/Modelo_SAR/DATA/df_catchments_kmeans.gpkg\")\n",
    "\n",
    "distance = [5000, 10000, 20000, 50000, 100000]\n",
    "variable = 'slope_mean'  # Specify the variable you want to use\n",
    "\n",
    "# Create a single figure with subplots for different distances\n",
    "f, ax = plt.subplots(nrows=1, ncols=len(distance), figsize=(15, 7))  # Increased height and reduced width\n",
    "\n",
    "for i, dx in enumerate(distance):\n",
    "    # Create a DistanceBand weights matrix for the specified distance\n",
    "    w_dist = DistanceBand.from_dataframe(cat, dx, binary=False)\n",
    "    \n",
    "    # Identify islands (disconnected components)\n",
    "    islands = [k for k, v in w_dist.neighbors.items() if len(v) == 0]\n",
    "\n",
    "    # Filter out islands from the GeoDataFrame\n",
    "    cat_filtered = cat.drop(index=islands)\n",
    "\n",
    "    # Create a new weights matrix without islands\n",
    "    w_dist_filtered = DistanceBand.from_dataframe(cat_filtered, dx, binary=False)\n",
    "\n",
    "    # Calculate local Moran's I (using filtered data)\n",
    "    lisa = esda.Moran_Local(cat_filtered[variable], w_dist_filtered)\n",
    "\n",
    "    # Moran scatterplot\n",
    "    moran_scatterplot(lisa, p=0.05, ax=ax[i])\n",
    "    # Calculate the global Moran's I to display it\n",
    "    mi = esda.Moran(cat_filtered[variable], w_dist_filtered)  # Calculate using the varying distance\n",
    "    ax[i].text(-2, 1.5, f'MI={round(mi.I, 2)}', fontsize=12)  # Adjust font size as needed\n",
    "    ax[i].set_xlabel('Pendiente normalizada', fontsize=12)  # Adjusted font size for x-axis\n",
    "    if i == 0:  # Only add y-axis label for the first subplot\n",
    "        ax[i].set_ylabel(\"Autoregresión espacial\", fontsize=12)\n",
    "    else:\n",
    "        ax[i].set_ylabel(\"\")  # Remove y-axis label for other subplots\n",
    "    ax[i].set_title(f'Distance: {dx/1000}km')\n",
    "\n",
    "    # Set consistent limits and aspect for the scatterplot\n",
    "    ax[i].set_aspect('auto')\n",
    "    ax[i].set_xlim([-2.5, 2.5])  # Adjust limits as necessary for consistency\n",
    "    ax[i].set_ylim([-2.5, 2.5])  # Adjust limits as necessary for consistency\n",
    "\n",
    "# Save the figure\n",
    "output_path = f\"G:/My Drive/INVESTIGACION/PAPERS/ELABORACION/Modelo_SAR/FIGURAS/{variable}_moran_scatter.png\"\n",
    "plt.savefig(output_path, dpi=500, bbox_inches='tight')  # Use bbox_inches to avoid cutting axes\n",
    "plt.close()  # Close the plot to avoid overlap\n",
    "\n",
    "\n",
    "\n"
   ]
  },
  {
   "cell_type": "code",
   "execution_count": null,
   "id": "6baadfa0-1f14-4bc7-84c6-e837afae0e62",
   "metadata": {},
   "outputs": [],
   "source": []
  }
 ],
 "metadata": {
  "kernelspec": {
   "display_name": "carto",
   "language": "python",
   "name": "carto"
  },
  "language_info": {
   "codemirror_mode": {
    "name": "ipython",
    "version": 3
   },
   "file_extension": ".py",
   "mimetype": "text/x-python",
   "name": "python",
   "nbconvert_exporter": "python",
   "pygments_lexer": "ipython3",
   "version": "3.11.4"
  }
 },
 "nbformat": 4,
 "nbformat_minor": 5
}
